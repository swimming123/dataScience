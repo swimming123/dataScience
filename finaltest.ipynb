{
  "nbformat": 4,
  "nbformat_minor": 0,
  "metadata": {
    "colab": {
      "name": "윤수영(B)_(DS)_최종평가_과제.ipynb",
      "provenance": [],
      "collapsed_sections": []
    },
    "kernelspec": {
      "name": "python3",
      "display_name": "Python 3"
    }
  },
  "cells": [
    {
      "cell_type": "markdown",
      "metadata": {
        "id": "wFyHeKq6WNBm"
      },
      "source": [
        "# [최종평가주차 코딩 실습](딥러닝 01. 신경망 기초 이론_케라스를 사용한 신경망 구현_20200206_03) keras를 사용하여 fashion_mnist데이터를 분류하는 모델을 만드세요\n",
        "* keras로 fashion_mnist를 학습시키세요\n",
        "* 모델이 예측한 test set데이터 X_test[20]의 class를 출력하고, X_test0[20]이미지를 출력하여 정확히 예측했는지 판단하세요\n",
        "```\n",
        "class 구분\n",
        "0 : 티셔츠/탑\n",
        "1 : 바지\n",
        "2 : 풀오버(스웨터의 일종)\n",
        "3 : 드레스\n",
        "4 : 코트\n",
        "5 : 샌들\n",
        "6 : 셔츠\n",
        "7 : 스니커즈\n",
        "8 : 가방\n",
        "9 : 앵클 부츠\n",
        "```\n"
      ]
    },
    {
      "cell_type": "code",
      "metadata": {
        "id": "D24_IYiuXYZ_"
      },
      "source": [
        "# 이 코드를 먼저 실행하세요\n",
        "\n",
        "from tensorflow import keras\n",
        "\n",
        "fashion_mnist = keras.datasets.fashion_mnist\n",
        "(X_train0, y_train0), (X_test0, y_test0) = fashion_mnist.load_data()\n",
        "\n",
        "import matplotlib.pylab as plt"
      ],
      "execution_count": null,
      "outputs": []
    },
    {
      "cell_type": "code",
      "metadata": {
        "id": "h9zd1eSpXYPZ"
      },
      "source": [
        "# 여기에 코드를 작성하세요\n",
        "\n",
        "# X_train0, y_train0 = 모델 학습에 사용되는 훈련 세트 (train_images, train_lables)\n",
        "# X-test0, y_test0 = 모델 테스트에 사용되는 테스트 세트 (test_images, test_labels)"
      ],
      "execution_count": null,
      "outputs": []
    },
    {
      "cell_type": "code",
      "metadata": {
        "id": "vx37q_I17Jqm"
      },
      "source": [
        "# 변수로 만들어 저장\n",
        "class_names = ['T-shirt/top', 'Trouser', 'Pullover', 'Dress', 'Coat',\n",
        "               'Sandal', 'Shirt', 'Sneaker', 'Bag', 'Ankle boot']"
      ],
      "execution_count": null,
      "outputs": []
    },
    {
      "cell_type": "code",
      "metadata": {
        "colab": {
          "base_uri": "https://localhost:8080/"
        },
        "id": "aUw6-WgxdsJt",
        "outputId": "98d180fc-54fa-4549-d49f-0c9ff172ffd8"
      },
      "source": [
        "X_train0.shape\n",
        "# 이미지 6000개, 이미지 사이즈 28 * 28"
      ],
      "execution_count": null,
      "outputs": [
        {
          "output_type": "execute_result",
          "data": {
            "text/plain": [
              "(60000, 28, 28)"
            ]
          },
          "metadata": {
            "tags": []
          },
          "execution_count": 33
        }
      ]
    },
    {
      "cell_type": "code",
      "metadata": {
        "colab": {
          "base_uri": "https://localhost:8080/"
        },
        "id": "EKJYm0gddscj",
        "outputId": "e46f2289-dfd4-4ba5-88e2-c0598bc94742"
      },
      "source": [
        "len(y_train0)\n",
        "#6000개 레이블"
      ],
      "execution_count": null,
      "outputs": [
        {
          "output_type": "execute_result",
          "data": {
            "text/plain": [
              "60000"
            ]
          },
          "metadata": {
            "tags": []
          },
          "execution_count": 34
        }
      ]
    },
    {
      "cell_type": "code",
      "metadata": {
        "colab": {
          "base_uri": "https://localhost:8080/"
        },
        "id": "ZKB-IbG-dtIG",
        "outputId": "71056e48-1877-4b41-b09f-6d4a2d369e73"
      },
      "source": [
        "y_train0\n",
        "#레이블 0~9사이 정수"
      ],
      "execution_count": null,
      "outputs": [
        {
          "output_type": "execute_result",
          "data": {
            "text/plain": [
              "array([9, 0, 0, ..., 3, 0, 5], dtype=uint8)"
            ]
          },
          "metadata": {
            "tags": []
          },
          "execution_count": 35
        }
      ]
    },
    {
      "cell_type": "code",
      "metadata": {
        "colab": {
          "base_uri": "https://localhost:8080/"
        },
        "id": "VSgQPyyCdtg_",
        "outputId": "86fa814a-0d4c-45e5-ebca-f05dfc89db51"
      },
      "source": [
        "X_test0.shape\n",
        "#테스트 세트 내 이미지 10000개, 이미지 크기 28*28"
      ],
      "execution_count": null,
      "outputs": [
        {
          "output_type": "execute_result",
          "data": {
            "text/plain": [
              "(10000, 28, 28)"
            ]
          },
          "metadata": {
            "tags": []
          },
          "execution_count": 36
        }
      ]
    },
    {
      "cell_type": "code",
      "metadata": {
        "colab": {
          "base_uri": "https://localhost:8080/"
        },
        "id": "-CKQ5cwzdtlw",
        "outputId": "73070117-fbba-4308-de57-a15a75c25ad5"
      },
      "source": [
        "len(y_test0)\n",
        "#레이블 10000개"
      ],
      "execution_count": null,
      "outputs": [
        {
          "output_type": "execute_result",
          "data": {
            "text/plain": [
              "10000"
            ]
          },
          "metadata": {
            "tags": []
          },
          "execution_count": 37
        }
      ]
    },
    {
      "cell_type": "code",
      "metadata": {
        "colab": {
          "base_uri": "https://localhost:8080/",
          "height": 265
        },
        "id": "Ese3gE_Vdtqr",
        "outputId": "774e4e35-a9c3-4e4e-f08f-4b9cd872514e"
      },
      "source": [
        "#데이터 전처리\n",
        "\n",
        "plt.figure()\n",
        "plt.imshow(X_train0[0])\n",
        "plt.colorbar()\n",
        "plt.grid(False)\n",
        "plt.show()"
      ],
      "execution_count": null,
      "outputs": [
        {
          "output_type": "display_data",
          "data": {
            "image/png": "[encoded data removed]",
            "text/plain": [
              "<Figure size 432x288 with 2 Axes>"
            ]
          },
          "metadata": {
            "tags": [],
            "needs_background": "light"
          }
        }
      ]
    },
    {
      "cell_type": "code",
      "metadata": {
        "id": "pZqBo5-peuS_"
      },
      "source": [
        "# 값 범위를 0~1 사이로 조정하기\n",
        "\n",
        "X_train0 = X_train0 / 255.0\n",
        "\n",
        "X_test0 = X_test0 / 255.0"
      ],
      "execution_count": null,
      "outputs": []
    },
    {
      "cell_type": "code",
      "metadata": {
        "colab": {
          "base_uri": "https://localhost:8080/",
          "height": 589
        },
        "id": "W5n_464YeuWO",
        "outputId": "9c5fd781-7bbd-4ea9-a375-455f144adbef"
      },
      "source": [
        "# 훈련 준비\n",
        "# 훈련세트에서 처음 25개, 클래스 이름 출력\n",
        "\n",
        "plt.figure(figsize=(10,10))\n",
        "for i in range(25):\n",
        "    plt.subplot(5,5,i+1)\n",
        "    plt.xticks([])\n",
        "    plt.yticks([])\n",
        "    plt.grid(False)\n",
        "    plt.imshow(X_train0[i], cmap=plt.cm.binary)\n",
        "    plt.xlabel(class_names[y_train0[i]])\n",
        "plt.show()\n"
      ],
      "execution_count": null,
      "outputs": [
        {
          "output_type": "display_data",
          "data": {
            "image/png": "[encoded data removed]",
            "text/plain": [
              "<Figure size 720x720 with 25 Axes>"
            ]
          },
          "metadata": {
            "tags": []
          }
        }
      ]
    },
    {
      "cell_type": "code",
      "metadata": {
        "id": "MJtowXj7euZe"
      },
      "source": [
        "#모델 구성\n",
        "#레이어 설정\n",
        "\n",
        "model = keras.Sequential([\n",
        "    keras.layers.Flatten(input_shape=(28, 28)),\n",
        "    keras.layers.Dense(128, activation='relu'),\n",
        "    keras.layers.Dense(10, activation='softmax')\n",
        "])"
      ],
      "execution_count": null,
      "outputs": []
    },
    {
      "cell_type": "code",
      "metadata": {
        "id": "6rnoa1F1euco"
      },
      "source": [
        "#모델 컴파일\n",
        "model.compile(optimizer='adam',\n",
        "              loss='sparse_categorical_crossentropy',\n",
        "              metrics=['accuracy'])"
      ],
      "execution_count": null,
      "outputs": []
    },
    {
      "cell_type": "code",
      "metadata": {
        "colab": {
          "base_uri": "https://localhost:8080/"
        },
        "id": "fSLywLPceufn",
        "outputId": "16a00cda-a1e2-43ac-e761-d4b69b6dbd73"
      },
      "source": [
        "# 모델 훈련\n",
        "model.fit(X_train0, y_train0, epochs=5)"
      ],
      "execution_count": null,
      "outputs": [
        {
          "output_type": "stream",
          "text": [
            "Epoch 1/5\n",
            "1875/1875 [==============================] - 4s 2ms/step - loss: 0.6260 - accuracy: 0.7818\n",
            "Epoch 2/5\n",
            "1875/1875 [==============================] - 3s 2ms/step - loss: 0.3809 - accuracy: 0.8628\n",
            "Epoch 3/5\n",
            "1875/1875 [==============================] - 3s 2ms/step - loss: 0.3391 - accuracy: 0.8754\n",
            "Epoch 4/5\n",
            "1875/1875 [==============================] - 4s 2ms/step - loss: 0.3123 - accuracy: 0.8851\n",
            "Epoch 5/5\n",
            "1875/1875 [==============================] - 4s 2ms/step - loss: 0.2873 - accuracy: 0.8930\n"
          ],
          "name": "stdout"
        },
        {
          "output_type": "execute_result",
          "data": {
            "text/plain": [
              "<tensorflow.python.keras.callbacks.History at 0x7f0378d9acd0>"
            ]
          },
          "metadata": {
            "tags": []
          },
          "execution_count": 43
        }
      ]
    },
    {
      "cell_type": "code",
      "metadata": {
        "colab": {
          "base_uri": "https://localhost:8080/"
        },
        "id": "JSlap8pFgD58",
        "outputId": "98bfa6c4-f71f-422c-b179-18cde4ec46ff"
      },
      "source": [
        "# 정확도\n",
        "test_loss, test_acc = model.evaluate(X_test0,  y_test0, verbose=2)\n",
        "\n",
        "print('\\n테스트 정확도:', test_acc)"
      ],
      "execution_count": null,
      "outputs": [
        {
          "output_type": "stream",
          "text": [
            "313/313 - 1s - loss: 0.3383 - accuracy: 0.8799\n",
            "\n",
            "테스트 정확도: 0.8798999786376953\n"
          ],
          "name": "stdout"
        }
      ]
    },
    {
      "cell_type": "code",
      "metadata": {
        "id": "nerGSN4AgD9O"
      },
      "source": [
        "# 예측 만들기\n",
        "predictions = model.predict(X_test0)"
      ],
      "execution_count": null,
      "outputs": []
    },
    {
      "cell_type": "code",
      "metadata": {
        "colab": {
          "base_uri": "https://localhost:8080/"
        },
        "id": "Pjrg5jEegEAm",
        "outputId": "02b5d5c2-488f-4ee5-9c5a-40454348ba96"
      },
      "source": [
        "predictions[0]"
      ],
      "execution_count": null,
      "outputs": [
        {
          "output_type": "execute_result",
          "data": {
            "text/plain": [
              "array([2.9907089e-06, 1.1332041e-07, 1.0043592e-06, 9.4333942e-08,\n",
              "       2.2104354e-07, 1.1000327e-02, 5.7158568e-06, 8.1757210e-02,\n",
              "       6.1318300e-05, 9.0717095e-01], dtype=float32)"
            ]
          },
          "metadata": {
            "tags": []
          },
          "execution_count": 46
        }
      ]
    },
    {
      "cell_type": "code",
      "metadata": {
        "id": "fg3VW22JgEEA"
      },
      "source": [
        "# 10개 클래스 예측 그래프로 표현\n",
        "def plot_image(i, predictions_array, true_label, img):\n",
        "  predictions_array, true_label, img = predictions_array[i], true_label[i], img[i]\n",
        "  plt.grid(False)\n",
        "  plt.xticks([])\n",
        "  plt.yticks([])\n",
        "\n",
        "  plt.imshow(img, cmap=plt.cm.binary)\n",
        "\n",
        "  predicted_label = np.argmax(predictions_array)\n",
        "  if predicted_label == true_label:\n",
        "    color = 'blue'\n",
        "  else:\n",
        "    color = 'red'\n",
        "\n",
        "  plt.xlabel(\"{} {:2.0f}% ({})\".format(class_names[predicted_label],\n",
        "                                100*np.max(predictions_array),\n",
        "                                class_names[true_label]),\n",
        "                                color=color)\n",
        "\n",
        "def plot_value_array(i, predictions_array, true_label):\n",
        "  predictions_array, true_label = predictions_array[i], true_label[i]\n",
        "  plt.grid(False)\n",
        "  plt.xticks([])\n",
        "  plt.yticks([])\n",
        "  thisplot = plt.bar(range(10), predictions_array, color=\"#777777\")\n",
        "  plt.ylim([0, 1])\n",
        "  predicted_label = np.argmax(predictions_array)\n",
        "\n",
        "  thisplot[predicted_label].set_color('red')\n",
        "  thisplot[true_label].set_color('blue')"
      ],
      "execution_count": null,
      "outputs": []
    },
    {
      "cell_type": "code",
      "metadata": {
        "colab": {
          "base_uri": "https://localhost:8080/",
          "height": 203
        },
        "id": "4ikGcZiIgEHb",
        "outputId": "3faa395b-d88b-4731-a8c4-51b4ffb80735"
      },
      "source": [
        "# 0번째 원소 이미지, 예측, 신뢰도 점수 배열 확인\n",
        "import numpy as np\n",
        "\n",
        "i = 0\n",
        "plt.figure(figsize=(6,3))\n",
        "plt.subplot(1,2,1)\n",
        "plot_image(i, predictions, y_test0, X_test0)\n",
        "plt.subplot(1,2,2)\n",
        "plot_value_array(i, predictions,  y_test0)\n",
        "plt.show()"
      ],
      "execution_count": null,
      "outputs": [
        {
          "output_type": "display_data",
          "data": {
            "image/png": "[encoded data removed]",
            "text/plain": [
              "<Figure size 432x216 with 2 Axes>"
            ]
          },
          "metadata": {
            "tags": []
          }
        }
      ]
    },
    {
      "cell_type": "code",
      "metadata": {
        "id": "0IQ-B4IBgEKx",
        "colab": {
          "base_uri": "https://localhost:8080/",
          "height": 203
        },
        "outputId": "4c08ddab-9be5-450e-d950-71b3f0af4abb"
      },
      "source": [
        "i = 20\n",
        "plt.figure(figsize=(6,3))\n",
        "plt.subplot(1,2,1)\n",
        "plot_image(i, predictions, y_test0, X_test0)\n",
        "plt.subplot(1,2,2)\n",
        "plot_value_array(i, predictions,  y_test0)\n",
        "plt.show()"
      ],
      "execution_count": null,
      "outputs": [
        {
          "output_type": "display_data",
          "data": {
            "image/png": "[encoded data removed]",
            "text/plain": [
              "<Figure size 432x216 with 2 Axes>"
            ]
          },
          "metadata": {
            "tags": []
          }
        }
      ]
    },
    {
      "cell_type": "code",
      "metadata": {
        "id": "S6OanQvlgEOK",
        "colab": {
          "base_uri": "https://localhost:8080/",
          "height": 589
        },
        "outputId": "f651bda5-e624-4d0c-f136-b1aa8159a41e"
      },
      "source": [
        "# 처음 X 개의 테스트 이미지와 예측 레이블, 진짜 레이블을 출력합니다\n",
        "# 올바른 예측은 파랑색으로 잘못된 예측은 빨강색으로 나타냅니다\n",
        "num_rows = 5\n",
        "num_cols = 3\n",
        "num_images = num_rows*num_cols\n",
        "plt.figure(figsize=(2*2*num_cols, 2*num_rows))\n",
        "for i in range(num_images):\n",
        "  plt.subplot(num_rows, 2*num_cols, 2*i+1)\n",
        "  plot_image(i, predictions, y_test0, X_test0)\n",
        "  plt.subplot(num_rows, 2*num_cols, 2*i+2)\n",
        "  plot_value_array(i, predictions, y_test0)\n",
        "plt.show()"
      ],
      "execution_count": null,
      "outputs": [
        {
          "output_type": "display_data",
          "data": {
            "image/png": "[encoded data removed]",
            "text/plain": [
              "<Figure size 864x720 with 30 Axes>"
            ]
          },
          "metadata": {
            "tags": []
          }
        }
      ]
    },
    {
      "cell_type": "code",
      "metadata": {
        "id": "EiyLArNlgERp",
        "colab": {
          "base_uri": "https://localhost:8080/"
        },
        "outputId": "7c7e86ee-bce2-4b46-d53f-4a297954a07c"
      },
      "source": [
        "# 훈련된 모델을 사용하여 한 이미지에 대한 예측 만들기\n",
        "img = X_test0[0]\n",
        "\n",
        "print(img.shape)"
      ],
      "execution_count": null,
      "outputs": [
        {
          "output_type": "stream",
          "text": [
            "(28, 28)\n"
          ],
          "name": "stdout"
        }
      ]
    },
    {
      "cell_type": "code",
      "metadata": {
        "id": "-VEzlKj2gEVL",
        "colab": {
          "base_uri": "https://localhost:8080/"
        },
        "outputId": "254e05bf-53e3-40ae-edba-f4e563e6e6ed"
      },
      "source": [
        "# 이미지 하나만 사용할 때도 배치에 추가합니다\n",
        "img = (np.expand_dims(img,0))\n",
        "\n",
        "print(img.shape)"
      ],
      "execution_count": null,
      "outputs": [
        {
          "output_type": "stream",
          "text": [
            "(1, 28, 28)\n"
          ],
          "name": "stdout"
        }
      ]
    },
    {
      "cell_type": "code",
      "metadata": {
        "id": "bfVYHBMhgEYs",
        "colab": {
          "base_uri": "https://localhost:8080/"
        },
        "outputId": "7fa73186-0ab5-4d93-ca39-f72afae61991"
      },
      "source": [
        "predictions_single = model.predict(img)\n",
        "\n",
        "print(predictions_single)"
      ],
      "execution_count": null,
      "outputs": [
        {
          "output_type": "stream",
          "text": [
            "[[2.9907146e-06 1.1332052e-07 1.0043620e-06 9.4333942e-08 2.2104395e-07\n",
            "  1.1000342e-02 5.7158568e-06 8.1757233e-02 6.1318417e-05 9.0717095e-01]]\n"
          ],
          "name": "stdout"
        }
      ]
    },
    {
      "cell_type": "code",
      "metadata": {
        "colab": {
          "base_uri": "https://localhost:8080/",
          "height": 300
        },
        "id": "gKMgWIq7j17_",
        "outputId": "e9152e46-d677-4cdc-8845-255eb3eac976"
      },
      "source": [
        "plot_value_array(0, predictions_single, y_test0)\n",
        "_ = plt.xticks(range(10), class_names, rotation=45)\n"
      ],
      "execution_count": null,
      "outputs": [
        {
          "output_type": "display_data",
          "data": {
            "image/png": "[encoded data removed]",
            "text/plain": [
              "<Figure size 432x288 with 1 Axes>"
            ]
          },
          "metadata": {
            "tags": [],
            "needs_background": "light"
          }
        }
      ]
    },
    {
      "cell_type": "code",
      "metadata": {
        "colab": {
          "base_uri": "https://localhost:8080/"
        },
        "id": "V3x8jmglj1_o",
        "outputId": "bad6a47b-09ee-4df1-fe09-41a0e3f8acf8"
      },
      "source": [
        "# 신뢰도가 가장 높은 레이블 > 9번레이블 = 앵클부츠\n",
        "np.argmax(predictions_single[0])"
      ],
      "execution_count": null,
      "outputs": [
        {
          "output_type": "execute_result",
          "data": {
            "text/plain": [
              "9"
            ]
          },
          "metadata": {
            "tags": []
          },
          "execution_count": 60
        }
      ]
    },
    {
      "cell_type": "code",
      "metadata": {
        "colab": {
          "base_uri": "https://localhost:8080/"
        },
        "id": "IwcvHqXnkvdj",
        "outputId": "7935c442-452a-44c8-c2b7-a689d4b31728"
      },
      "source": [
        "#확인\n",
        "y_test0[0]"
      ],
      "execution_count": null,
      "outputs": [
        {
          "output_type": "execute_result",
          "data": {
            "text/plain": [
              "9"
            ]
          },
          "metadata": {
            "tags": []
          },
          "execution_count": 65
        }
      ]
    },
    {
      "cell_type": "code",
      "metadata": {
        "id": "2gz9UL8_7Vd4",
        "colab": {
          "base_uri": "https://localhost:8080/"
        },
        "outputId": "0c316be5-d838-48b7-83cd-6df30c28d024"
      },
      "source": [
        "# 결과 출력 코드\n",
        "model.predict_classes(X_test0[[20],:],verbose=0)"
      ],
      "execution_count": null,
      "outputs": [
        {
          "output_type": "stream",
          "text": [
            "/usr/local/lib/python3.7/dist-packages/tensorflow/python/keras/engine/sequential.py:450: UserWarning: `model.predict_classes()` is deprecated and will be removed after 2021-01-01. Please use instead:* `np.argmax(model.predict(x), axis=-1)`,   if your model does multi-class classification   (e.g. if it uses a `softmax` last-layer activation).* `(model.predict(x) > 0.5).astype(\"int32\")`,   if your model does binary classification   (e.g. if it uses a `sigmoid` last-layer activation).\n",
            "  warnings.warn('`model.predict_classes()` is deprecated and '\n"
          ],
          "name": "stderr"
        },
        {
          "output_type": "execute_result",
          "data": {
            "text/plain": [
              "array([2])"
            ]
          },
          "metadata": {
            "tags": []
          },
          "execution_count": 63
        }
      ]
    },
    {
      "cell_type": "code",
      "metadata": {
        "id": "X-RhoGrY7PNI",
        "colab": {
          "base_uri": "https://localhost:8080/",
          "height": 85
        },
        "outputId": "081ff929-a39f-4bfd-d7d3-b46ea76986e3"
      },
      "source": [
        "plt.figure(figsize=(1,1))\n",
        "plt.imshow(X_test0[20],cmap=plt.cm.bone_r)\n",
        "plt.grid(False)\n",
        "plt.axis(\"off\")\n",
        "plt.show()"
      ],
      "execution_count": null,
      "outputs": [
        {
          "output_type": "display_data",
          "data": {
            "image/png": "[encoded data removed]",
            "text/plain": [
              "<Figure size 72x72 with 1 Axes>"
            ]
          },
          "metadata": {
            "tags": [],
            "needs_background": "light"
          }
        }
      ]
    },
    {
      "cell_type": "code",
      "metadata": {
        "id": "kt5Vq2-Fli4G"
      },
      "source": [
        ""
      ],
      "execution_count": null,
      "outputs": []
    }
  ]
}