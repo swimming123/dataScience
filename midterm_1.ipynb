{
  "nbformat": 4,
  "nbformat_minor": 0,
  "metadata": {
    "colab": {
      "name": "윤수영(B) - (DS6) 1차평가 과제.ipynb",
      "provenance": [],
      "collapsed_sections": []
    },
    "kernelspec": {
      "name": "python3",
      "display_name": "Python 3"
    }
  },
  "cells": [
    {
      "cell_type": "markdown",
      "metadata": {
        "id": "FZ_rJJY4XoX5"
      },
      "source": [
        "# 1차평가 과제"
      ]
    },
    {
      "cell_type": "markdown",
      "metadata": {
        "id": "5tMi-PuHY_2e"
      },
      "source": [
        "(수학_131. pgmpy 를 사용한 베이즈 정리 적용)베이즈 정리를 적용하기 위해 아래의 비어진 함수('###')에 알맞는 함수를 찾아 채워주세요."
      ]
    },
    {
      "cell_type": "code",
      "metadata": {
        "colab": {
          "base_uri": "https://localhost:8080/"
        },
        "id": "TDAcfWJsXqgF",
        "outputId": "a96c3936-d9c6-44fe-dcca-06fec7f7c336"
      },
      "source": [
        "# pgmpy를 설치하는 명령어입니다.\n",
        "!pip install pgmpy"
      ],
      "execution_count": null,
      "outputs": [
        {
          "output_type": "stream",
          "text": [
            "Collecting pgmpy\n",
            "\u001b[?25l  Downloading https://files.pythonhosted.org/packages/06/19/d508949e8ac7b32e639f15e854a5f5ed710a4118e4f6692bddaccc390d88/pgmpy-0.1.13-py3-none-any.whl (324kB)\n",
            "\r\u001b[K     |█                               | 10kB 16.2MB/s eta 0:00:01\r\u001b[K     |██                              | 20kB 23.6MB/s eta 0:00:01\r\u001b[K     |███                             | 30kB 11.8MB/s eta 0:00:01\r\u001b[K     |████                            | 40kB 10.3MB/s eta 0:00:01\r\u001b[K     |█████                           | 51kB 9.3MB/s eta 0:00:01\r\u001b[K     |██████                          | 61kB 9.5MB/s eta 0:00:01\r\u001b[K     |███████                         | 71kB 10.5MB/s eta 0:00:01\r\u001b[K     |████████                        | 81kB 10.9MB/s eta 0:00:01\r\u001b[K     |█████████                       | 92kB 9.6MB/s eta 0:00:01\r\u001b[K     |██████████                      | 102kB 9.9MB/s eta 0:00:01\r\u001b[K     |███████████                     | 112kB 9.9MB/s eta 0:00:01\r\u001b[K     |████████████▏                   | 122kB 9.9MB/s eta 0:00:01\r\u001b[K     |█████████████▏                  | 133kB 9.9MB/s eta 0:00:01\r\u001b[K     |██████████████▏                 | 143kB 9.9MB/s eta 0:00:01\r\u001b[K     |███████████████▏                | 153kB 9.9MB/s eta 0:00:01\r\u001b[K     |████████████████▏               | 163kB 9.9MB/s eta 0:00:01\r\u001b[K     |█████████████████▏              | 174kB 9.9MB/s eta 0:00:01\r\u001b[K     |██████████████████▏             | 184kB 9.9MB/s eta 0:00:01\r\u001b[K     |███████████████████▏            | 194kB 9.9MB/s eta 0:00:01\r\u001b[K     |████████████████████▏           | 204kB 9.9MB/s eta 0:00:01\r\u001b[K     |█████████████████████▏          | 215kB 9.9MB/s eta 0:00:01\r\u001b[K     |██████████████████████▏         | 225kB 9.9MB/s eta 0:00:01\r\u001b[K     |███████████████████████▎        | 235kB 9.9MB/s eta 0:00:01\r\u001b[K     |████████████████████████▎       | 245kB 9.9MB/s eta 0:00:01\r\u001b[K     |█████████████████████████▎      | 256kB 9.9MB/s eta 0:00:01\r\u001b[K     |██████████████████████████▎     | 266kB 9.9MB/s eta 0:00:01\r\u001b[K     |███████████████████████████▎    | 276kB 9.9MB/s eta 0:00:01\r\u001b[K     |████████████████████████████▎   | 286kB 9.9MB/s eta 0:00:01\r\u001b[K     |█████████████████████████████▎  | 296kB 9.9MB/s eta 0:00:01\r\u001b[K     |██████████████████████████████▎ | 307kB 9.9MB/s eta 0:00:01\r\u001b[K     |███████████████████████████████▎| 317kB 9.9MB/s eta 0:00:01\r\u001b[K     |████████████████████████████████| 327kB 9.9MB/s \n",
            "\u001b[?25hRequirement already satisfied: pyparsing in /usr/local/lib/python3.6/dist-packages (from pgmpy) (2.4.7)\n",
            "Requirement already satisfied: statsmodels in /usr/local/lib/python3.6/dist-packages (from pgmpy) (0.10.2)\n",
            "Requirement already satisfied: pandas in /usr/local/lib/python3.6/dist-packages (from pgmpy) (1.1.5)\n",
            "Requirement already satisfied: scikit-learn in /usr/local/lib/python3.6/dist-packages (from pgmpy) (0.22.2.post1)\n",
            "Requirement already satisfied: torch in /usr/local/lib/python3.6/dist-packages (from pgmpy) (1.7.0+cu101)\n",
            "Requirement already satisfied: networkx in /usr/local/lib/python3.6/dist-packages (from pgmpy) (2.5)\n",
            "Requirement already satisfied: numpy in /usr/local/lib/python3.6/dist-packages (from pgmpy) (1.19.5)\n",
            "Requirement already satisfied: joblib in /usr/local/lib/python3.6/dist-packages (from pgmpy) (1.0.0)\n",
            "Requirement already satisfied: tqdm in /usr/local/lib/python3.6/dist-packages (from pgmpy) (4.41.1)\n",
            "Requirement already satisfied: scipy in /usr/local/lib/python3.6/dist-packages (from pgmpy) (1.4.1)\n",
            "Requirement already satisfied: patsy>=0.4.0 in /usr/local/lib/python3.6/dist-packages (from statsmodels->pgmpy) (0.5.1)\n",
            "Requirement already satisfied: pytz>=2017.2 in /usr/local/lib/python3.6/dist-packages (from pandas->pgmpy) (2018.9)\n",
            "Requirement already satisfied: python-dateutil>=2.7.3 in /usr/local/lib/python3.6/dist-packages (from pandas->pgmpy) (2.8.1)\n",
            "Requirement already satisfied: future in /usr/local/lib/python3.6/dist-packages (from torch->pgmpy) (0.16.0)\n",
            "Requirement already satisfied: dataclasses in /usr/local/lib/python3.6/dist-packages (from torch->pgmpy) (0.8)\n",
            "Requirement already satisfied: typing-extensions in /usr/local/lib/python3.6/dist-packages (from torch->pgmpy) (3.7.4.3)\n",
            "Requirement already satisfied: decorator>=4.3.0 in /usr/local/lib/python3.6/dist-packages (from networkx->pgmpy) (4.4.2)\n",
            "Requirement already satisfied: six in /usr/local/lib/python3.6/dist-packages (from patsy>=0.4.0->statsmodels->pgmpy) (1.15.0)\n",
            "Installing collected packages: pgmpy\n",
            "Successfully installed pgmpy-0.1.13\n"
          ],
          "name": "stdout"
        }
      ]
    },
    {
      "cell_type": "code",
      "metadata": {
        "id": "pa9qtE8MXvvj"
      },
      "source": [
        "from pgmpy.factors.discrete import TabularCPD\n",
        "from pgmpy.models import BayesianModel\n",
        "from pgmpy.inference import VariableElimination\n",
        "import numpy as np"
      ],
      "execution_count": null,
      "outputs": []
    },
    {
      "cell_type": "code",
      "metadata": {
        "colab": {
          "base_uri": "https://localhost:8080/"
        },
        "id": "_YJpW4omX2e4",
        "outputId": "b797f8f8-a458-4b9c-ea41-1860ddeeb907"
      },
      "source": [
        "cpd_X = TabularCPD('X', 2, [[1 - 0.002], [0.002]])\n",
        "print(cpd_X)"
      ],
      "execution_count": null,
      "outputs": [
        {
          "output_type": "stream",
          "text": [
            "+------+-------+\n",
            "| X(0) | 0.998 |\n",
            "+------+-------+\n",
            "| X(1) | 0.002 |\n",
            "+------+-------+\n"
          ],
          "name": "stdout"
        }
      ]
    },
    {
      "cell_type": "code",
      "metadata": {
        "colab": {
          "base_uri": "https://localhost:8080/"
        },
        "id": "_CMRDV_NYGsu",
        "outputId": "ce0e90a2-32d1-4886-8673-9c40bc12cfeb"
      },
      "source": [
        "cpd_Y_on_X = TabularCPD('Y', 2, np.array([[0.95, 0.01], [0.05, 0.99]]),\n",
        "                        evidence=['X'], evidence_card=[2])\n",
        "print(cpd_Y_on_X)"
      ],
      "execution_count": null,
      "outputs": [
        {
          "output_type": "stream",
          "text": [
            "+------+------+------+\n",
            "| X    | X(0) | X(1) |\n",
            "+------+------+------+\n",
            "| Y(0) | 0.95 | 0.01 |\n",
            "+------+------+------+\n",
            "| Y(1) | 0.05 | 0.99 |\n",
            "+------+------+------+\n"
          ],
          "name": "stdout"
        }
      ]
    },
    {
      "cell_type": "code",
      "metadata": {
        "colab": {
          "base_uri": "https://localhost:8080/"
        },
        "id": "gzOOkkWVYV7E",
        "outputId": "b34efcdf-a665-445a-cc8d-e71feb9c602e"
      },
      "source": [
        "model = BayesianModel([('X', 'Y')])\n",
        "model.add_cpds(cpd_X, cpd_Y_on_X)\n",
        "model.check_model()"
      ],
      "execution_count": null,
      "outputs": [
        {
          "output_type": "execute_result",
          "data": {
            "text/plain": [
              "True"
            ]
          },
          "metadata": {
            "tags": []
          },
          "execution_count": 5
        }
      ]
    },
    {
      "cell_type": "code",
      "metadata": {
        "colab": {
          "base_uri": "https://localhost:8080/"
        },
        "id": "j1km2obTYb_E",
        "outputId": "d056d8fb-4b4f-4de8-e852-a0bee8054bed"
      },
      "source": [
        "inference = VariableElimination(model)\n",
        "posterior = inference.query(['X'], evidence={'Y': 1}, joint=False, show_progress=False)\n",
        "print(posterior['X'])"
      ],
      "execution_count": null,
      "outputs": [
        {
          "output_type": "stream",
          "text": [
            "+------+----------+\n",
            "| X    |   phi(X) |\n",
            "+======+==========+\n",
            "| X(0) |   0.9618 |\n",
            "+------+----------+\n",
            "| X(1) |   0.0382 |\n",
            "+------+----------+\n"
          ],
          "name": "stdout"
        }
      ]
    },
    {
      "cell_type": "code",
      "metadata": {
        "id": "CUflxPy8wDWR"
      },
      "source": [
        ""
      ],
      "execution_count": null,
      "outputs": []
    }
  ]
}